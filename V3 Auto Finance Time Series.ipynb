{
 "cells": [
  {
   "cell_type": "markdown",
   "id": "62786e31",
   "metadata": {},
   "source": [
    "# V3 Auto Finance Time Series"
   ]
  },
  {
   "cell_type": "code",
   "execution_count": null,
   "id": "8b0ea272",
   "metadata": {},
   "outputs": [],
   "source": [
    "# Credentials for Importing Google Sheets Data"
   ]
  },
  {
   "cell_type": "code",
   "execution_count": null,
   "id": "7b33ad15",
   "metadata": {},
   "outputs": [],
   "source": [
    "# Import Expenses Data"
   ]
  },
  {
   "cell_type": "code",
   "execution_count": null,
   "id": "6d82fb53",
   "metadata": {},
   "outputs": [],
   "source": [
    "# Import Income Data"
   ]
  },
  {
   "cell_type": "code",
   "execution_count": null,
   "id": "d5b822ad",
   "metadata": {},
   "outputs": [],
   "source": [
    "# Cummulative "
   ]
  }
 ],
 "metadata": {
  "language_info": {
   "name": "python"
  }
 },
 "nbformat": 4,
 "nbformat_minor": 5
}
