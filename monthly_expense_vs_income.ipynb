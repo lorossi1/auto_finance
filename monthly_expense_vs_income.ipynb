{
 "cells": [
  {
   "cell_type": "code",
   "execution_count": 1,
   "metadata": {},
   "outputs": [
    {
     "name": "stderr",
     "output_type": "stream",
     "text": [
      "C:\\Users\\lohan.rossi\\AppData\\Local\\Temp\\ipykernel_15680\\2015754551.py:7: DeprecationWarning: \n",
      "Pyarrow will become a required dependency of pandas in the next major release of pandas (pandas 3.0),\n",
      "(to allow more performant data types, such as the Arrow string type, and better interoperability with other libraries)\n",
      "but was not found to be installed on your system.\n",
      "If this would cause problems for you,\n",
      "please provide us feedback at https://github.com/pandas-dev/pandas/issues/54466\n",
      "        \n",
      "  import pandas as pd\n"
     ]
    }
   ],
   "source": [
    "# Playing with expenses\n",
    "\n",
    "########################################\n",
    "#         Data Import from Sheets      #\n",
    "########################################\n",
    "import gspread\n",
    "import pandas as pd\n",
    "from datetime import datetime, timedelta\n",
    "import calendar\n",
    "import matplotlib.pyplot as plt\n",
    "from oauth2client.service_account import ServiceAccountCredentials\n",
    "import smtplib\n",
    "from email.message import EmailMessage\n",
    "import os\n",
    "import mimetypes\n",
    "from pathlib import Path\n",
    "import json\n",
    "from dotenv import load_dotenv\n",
    "\n",
    "load_dotenv()\n",
    "\n",
    "email_username = os.getenv(\"EMAIL_USERNAME\")\n",
    "email_password = os.getenv(\"EMAIL_PASSWORD\")\n",
    "\n",
    "# Set up credentials\n",
    "scope = ['https://spreadsheets.google.com/feeds', 'https://www.googleapis.com/auth/drive']\n",
    "# creds = ServiceAccountCredentials.from_json_keyfile_name(os.getenv('TRY'), scope)\n",
    "json_keyfile_dict = json.loads(os.getenv(\"JSON_KEYFILE_DICT\"))\n",
    "creds = ServiceAccountCredentials.from_json_keyfile_dict(json_keyfile_dict, scope)\n",
    "client = gspread.authorize(creds)\n",
    "\n",
    "\n",
    "# Open Spreadsheet based on sheet key\n",
    "spreadsheet_key = os.getenv(\"SPREADSHEET_KEY\")\n",
    "spreadsheet = client.open_by_key(spreadsheet_key)\n",
    "\n",
    "## Open Expenses Sheet\n",
    "sheet_title = 'Expenses'  \n",
    "sheet = spreadsheet.worksheet(sheet_title)\n",
    "\n",
    "# Extract all of the data\n",
    "expenses_data = sheet.get_all_records()\n",
    "\n",
    "# Convert from JSON to pandas Data Frame\n",
    "expenses_data = pd.DataFrame(expenses_data)\n",
    "\n",
    "# Make Timestamp a column that can be worked with Pandas library\n",
    "expenses_data['Timestamp'] = pd.to_datetime(expenses_data['Timestamp'])\n",
    "\n",
    "## Open Income Sheet\n",
    "sheet_title = 'Income'  \n",
    "sheet = spreadsheet.worksheet(sheet_title)\n",
    "\n",
    "# Extract all of the data\n",
    "income_data = sheet.get_all_records()\n",
    "\n",
    "# Convert from JSON to pandas Data Frame\n",
    "income_data = pd.DataFrame(income_data)\n",
    "\n",
    "# Make Timestamp a column that can be worked with Pandas library\n",
    "income_data['Timestamp'] = pd.to_datetime(income_data['Timestamp'])\n",
    "\n"
   ]
  },
  {
   "cell_type": "code",
   "execution_count": null,
   "metadata": {},
   "outputs": [
    {
     "name": "stdout",
     "output_type": "stream",
     "text": [
      "   Year-Month  Expense Amount\n",
      "0     2023-03          307.72\n",
      "1     2023-04          216.91\n",
      "2     2023-05          137.87\n",
      "3     2023-06          276.70\n",
      "4     2023-07          272.17\n",
      "5     2023-08          274.07\n",
      "6     2023-09          213.10\n",
      "7     2023-10          237.61\n",
      "8     2023-11          273.05\n",
      "9     2023-12          167.33\n",
      "10    2024-01          265.38\n",
      "11    2024-02          161.62\n",
      "12    2024-03          119.26\n",
      "13    2024-04          190.31\n",
      "14    2024-05          396.53\n",
      "15    2024-06          118.96\n",
      "16    2024-07           27.13\n",
      "17    2024-08          138.44\n",
      "18    2024-09          452.28\n",
      "19    2024-10          334.11\n",
      "20    2024-11          491.56\n",
      "21    2024-12          122.48\n",
      "22    2025-01          667.90\n",
      "23    2025-02          372.20\n",
      "24    2025-03          514.67\n",
      "25    2025-04          336.36\n",
      "272.5276923076923\n"
     ]
    },
    {
     "name": "stderr",
     "output_type": "stream",
     "text": [
      "C:\\Users\\lohan.rossi\\AppData\\Local\\Temp\\ipykernel_15680\\1798136331.py:4: SettingWithCopyWarning: \n",
      "A value is trying to be set on a copy of a slice from a DataFrame.\n",
      "Try using .loc[row_indexer,col_indexer] = value instead\n",
      "\n",
      "See the caveats in the documentation: https://pandas.pydata.org/pandas-docs/stable/user_guide/indexing.html#returning-a-view-versus-a-copy\n",
      "  df['Year-Month'] = df['Timestamp'].dt.to_period('M')\n"
     ]
    }
   ],
   "source": [
    "df = expenses_data\n",
    "\n",
    "df['Year-Month'] = df['Timestamp'].dt.to_period('M')\n",
    "\n",
    "# Group by 'Year-Month' and sum the 'Expense Amount'\n",
    "monthly_expenses = df.groupby('Year-Month')['Expense Amount'].sum().reset_index()\n",
    "\n",
    "# Display the result\n",
    "print(monthly_expenses)\n",
    "print(monthly_expenses['Expense Amount'].mean())\n"
   ]
  },
  {
   "cell_type": "code",
   "execution_count": 3,
   "metadata": {},
   "outputs": [
    {
     "name": "stdout",
     "output_type": "stream",
     "text": [
      "   Year-Month  Income Amount\n",
      "0     2023-02          28.92\n",
      "1     2023-03        5947.41\n",
      "2     2023-04        3795.88\n",
      "3     2023-05        3795.88\n",
      "4     2023-06        3795.88\n",
      "5     2023-07        3922.79\n",
      "6     2023-08        3795.88\n",
      "7     2023-09        5693.82\n",
      "8     2023-10        3846.64\n",
      "9     2023-11        3860.38\n",
      "10    2023-12        3795.88\n",
      "11    2024-01        4988.76\n",
      "12    2024-02        3795.88\n",
      "13    2024-03       10491.09\n",
      "14    2024-04        5286.49\n",
      "15    2024-05        4059.50\n",
      "16    2024-06        4059.49\n",
      "17    2024-07        4059.48\n",
      "18    2024-08        9638.17\n",
      "19    2024-09        4131.29\n",
      "20    2024-10        3956.14\n",
      "21    2024-11        3956.13\n",
      "22    2024-12        3956.14\n",
      "23    2025-01        5999.45\n",
      "24    2025-02        3954.50\n",
      "25    2025-03       15634.93\n",
      "26    2025-04        3392.95\n"
     ]
    }
   ],
   "source": [
    "df = income_data\n",
    "\n",
    "df['Year-Month'] = df['Timestamp'].dt.to_period('M')\n",
    "\n",
    "# Group by 'Year-Month' and sum the 'Expense Amount'\n",
    "monthly_income = df.groupby('Year-Month')['Income Amount'].sum().reset_index()\n",
    "\n",
    "# Display the result\n",
    "print(monthly_income)"
   ]
  },
  {
   "cell_type": "code",
   "execution_count": 4,
   "metadata": {},
   "outputs": [
    {
     "data": {
      "application/vnd.microsoft.datawrangler.viewer.v0+json": {
       "columns": [
        {
         "name": "index",
         "rawType": "int64",
         "type": "integer"
        },
        {
         "name": "Year-Month",
         "rawType": "period[M]",
         "type": "unknown"
        },
        {
         "name": "Income Amount",
         "rawType": "float64",
         "type": "float"
        },
        {
         "name": "Expense Amount",
         "rawType": "float64",
         "type": "float"
        },
        {
         "name": "Delta",
         "rawType": "float64",
         "type": "float"
        }
       ],
       "conversionMethod": "pd.DataFrame",
       "ref": "f3455097-2cfc-4bce-9dc0-9f3a69118ef2",
       "rows": [
        [
         "0",
         "2023-02",
         "28.92",
         "42.86",
         "-13.939999999999998"
        ],
        [
         "1",
         "2023-03",
         "5947.41",
         "2176.6",
         "3770.81"
        ],
        [
         "2",
         "2023-04",
         "3795.88",
         "2104.54",
         "1691.3400000000001"
        ],
        [
         "3",
         "2023-05",
         "3795.88",
         "1852.65",
         "1943.23"
        ],
        [
         "4",
         "2023-06",
         "3795.88",
         "2082.58",
         "1713.3000000000002"
        ],
        [
         "5",
         "2023-07",
         "3922.79",
         "5098.66",
         "-1175.87"
        ],
        [
         "6",
         "2023-08",
         "3795.88",
         "2814.46",
         "981.4200000000001"
        ],
        [
         "7",
         "2023-09",
         "5693.82",
         "2039.43",
         "3654.3899999999994"
        ],
        [
         "8",
         "2023-10",
         "3846.6400000000003",
         "1781.84",
         "2064.8"
        ],
        [
         "9",
         "2023-11",
         "3860.38",
         "7962.660000000001",
         "-4102.280000000001"
        ],
        [
         "10",
         "2023-12",
         "3795.88",
         "2279.2",
         "1516.6800000000003"
        ],
        [
         "11",
         "2024-01",
         "4988.76",
         "2137.75",
         "2851.01"
        ],
        [
         "12",
         "2024-02",
         "3795.88",
         "1414.82",
         "2381.0600000000004"
        ],
        [
         "13",
         "2024-03",
         "10491.09",
         "2204.4",
         "8286.69"
        ],
        [
         "14",
         "2024-04",
         "5286.49",
         "2167.78",
         "3118.7099999999996"
        ],
        [
         "15",
         "2024-05",
         "4059.5",
         "2177.16",
         "1882.3400000000001"
        ],
        [
         "16",
         "2024-06",
         "4059.49",
         "4601.96",
         "-542.4700000000003"
        ],
        [
         "17",
         "2024-07",
         "4059.48",
         "2239.35",
         "1820.13"
        ],
        [
         "18",
         "2024-08",
         "9638.17",
         "10717.64",
         "-1079.4699999999993"
        ],
        [
         "19",
         "2024-09",
         "4131.29",
         "4152.44",
         "-21.149999999999636"
        ],
        [
         "20",
         "2024-10",
         "3956.14",
         "2497.63",
         "1458.5099999999998"
        ],
        [
         "21",
         "2024-11",
         "3956.13",
         "4009.92",
         "-53.789999999999964"
        ],
        [
         "22",
         "2024-12",
         "3956.14",
         "3632.54",
         "323.5999999999999"
        ],
        [
         "23",
         "2025-01",
         "5999.45",
         "4557.86",
         "1441.5900000000001"
        ],
        [
         "24",
         "2025-02",
         "3954.5",
         "3256.21",
         "698.29"
        ],
        [
         "25",
         "2025-03",
         "15634.93",
         "8705.74",
         "6929.1900000000005"
        ],
        [
         "26",
         "2025-04",
         "3392.95",
         "2528.72",
         "864.23"
        ]
       ],
       "shape": {
        "columns": 4,
        "rows": 27
       }
      },
      "text/html": [
       "<div>\n",
       "<style scoped>\n",
       "    .dataframe tbody tr th:only-of-type {\n",
       "        vertical-align: middle;\n",
       "    }\n",
       "\n",
       "    .dataframe tbody tr th {\n",
       "        vertical-align: top;\n",
       "    }\n",
       "\n",
       "    .dataframe thead th {\n",
       "        text-align: right;\n",
       "    }\n",
       "</style>\n",
       "<table border=\"1\" class=\"dataframe\">\n",
       "  <thead>\n",
       "    <tr style=\"text-align: right;\">\n",
       "      <th></th>\n",
       "      <th>Year-Month</th>\n",
       "      <th>Income Amount</th>\n",
       "      <th>Expense Amount</th>\n",
       "      <th>Delta</th>\n",
       "    </tr>\n",
       "  </thead>\n",
       "  <tbody>\n",
       "    <tr>\n",
       "      <th>0</th>\n",
       "      <td>2023-02</td>\n",
       "      <td>28.92</td>\n",
       "      <td>42.86</td>\n",
       "      <td>-13.94</td>\n",
       "    </tr>\n",
       "    <tr>\n",
       "      <th>1</th>\n",
       "      <td>2023-03</td>\n",
       "      <td>5947.41</td>\n",
       "      <td>2176.60</td>\n",
       "      <td>3770.81</td>\n",
       "    </tr>\n",
       "    <tr>\n",
       "      <th>2</th>\n",
       "      <td>2023-04</td>\n",
       "      <td>3795.88</td>\n",
       "      <td>2104.54</td>\n",
       "      <td>1691.34</td>\n",
       "    </tr>\n",
       "    <tr>\n",
       "      <th>3</th>\n",
       "      <td>2023-05</td>\n",
       "      <td>3795.88</td>\n",
       "      <td>1852.65</td>\n",
       "      <td>1943.23</td>\n",
       "    </tr>\n",
       "    <tr>\n",
       "      <th>4</th>\n",
       "      <td>2023-06</td>\n",
       "      <td>3795.88</td>\n",
       "      <td>2082.58</td>\n",
       "      <td>1713.30</td>\n",
       "    </tr>\n",
       "    <tr>\n",
       "      <th>5</th>\n",
       "      <td>2023-07</td>\n",
       "      <td>3922.79</td>\n",
       "      <td>5098.66</td>\n",
       "      <td>-1175.87</td>\n",
       "    </tr>\n",
       "    <tr>\n",
       "      <th>6</th>\n",
       "      <td>2023-08</td>\n",
       "      <td>3795.88</td>\n",
       "      <td>2814.46</td>\n",
       "      <td>981.42</td>\n",
       "    </tr>\n",
       "    <tr>\n",
       "      <th>7</th>\n",
       "      <td>2023-09</td>\n",
       "      <td>5693.82</td>\n",
       "      <td>2039.43</td>\n",
       "      <td>3654.39</td>\n",
       "    </tr>\n",
       "    <tr>\n",
       "      <th>8</th>\n",
       "      <td>2023-10</td>\n",
       "      <td>3846.64</td>\n",
       "      <td>1781.84</td>\n",
       "      <td>2064.80</td>\n",
       "    </tr>\n",
       "    <tr>\n",
       "      <th>9</th>\n",
       "      <td>2023-11</td>\n",
       "      <td>3860.38</td>\n",
       "      <td>7962.66</td>\n",
       "      <td>-4102.28</td>\n",
       "    </tr>\n",
       "    <tr>\n",
       "      <th>10</th>\n",
       "      <td>2023-12</td>\n",
       "      <td>3795.88</td>\n",
       "      <td>2279.20</td>\n",
       "      <td>1516.68</td>\n",
       "    </tr>\n",
       "    <tr>\n",
       "      <th>11</th>\n",
       "      <td>2024-01</td>\n",
       "      <td>4988.76</td>\n",
       "      <td>2137.75</td>\n",
       "      <td>2851.01</td>\n",
       "    </tr>\n",
       "    <tr>\n",
       "      <th>12</th>\n",
       "      <td>2024-02</td>\n",
       "      <td>3795.88</td>\n",
       "      <td>1414.82</td>\n",
       "      <td>2381.06</td>\n",
       "    </tr>\n",
       "    <tr>\n",
       "      <th>13</th>\n",
       "      <td>2024-03</td>\n",
       "      <td>10491.09</td>\n",
       "      <td>2204.40</td>\n",
       "      <td>8286.69</td>\n",
       "    </tr>\n",
       "    <tr>\n",
       "      <th>14</th>\n",
       "      <td>2024-04</td>\n",
       "      <td>5286.49</td>\n",
       "      <td>2167.78</td>\n",
       "      <td>3118.71</td>\n",
       "    </tr>\n",
       "    <tr>\n",
       "      <th>15</th>\n",
       "      <td>2024-05</td>\n",
       "      <td>4059.50</td>\n",
       "      <td>2177.16</td>\n",
       "      <td>1882.34</td>\n",
       "    </tr>\n",
       "    <tr>\n",
       "      <th>16</th>\n",
       "      <td>2024-06</td>\n",
       "      <td>4059.49</td>\n",
       "      <td>4601.96</td>\n",
       "      <td>-542.47</td>\n",
       "    </tr>\n",
       "    <tr>\n",
       "      <th>17</th>\n",
       "      <td>2024-07</td>\n",
       "      <td>4059.48</td>\n",
       "      <td>2239.35</td>\n",
       "      <td>1820.13</td>\n",
       "    </tr>\n",
       "    <tr>\n",
       "      <th>18</th>\n",
       "      <td>2024-08</td>\n",
       "      <td>9638.17</td>\n",
       "      <td>10717.64</td>\n",
       "      <td>-1079.47</td>\n",
       "    </tr>\n",
       "    <tr>\n",
       "      <th>19</th>\n",
       "      <td>2024-09</td>\n",
       "      <td>4131.29</td>\n",
       "      <td>4152.44</td>\n",
       "      <td>-21.15</td>\n",
       "    </tr>\n",
       "    <tr>\n",
       "      <th>20</th>\n",
       "      <td>2024-10</td>\n",
       "      <td>3956.14</td>\n",
       "      <td>2497.63</td>\n",
       "      <td>1458.51</td>\n",
       "    </tr>\n",
       "    <tr>\n",
       "      <th>21</th>\n",
       "      <td>2024-11</td>\n",
       "      <td>3956.13</td>\n",
       "      <td>4009.92</td>\n",
       "      <td>-53.79</td>\n",
       "    </tr>\n",
       "    <tr>\n",
       "      <th>22</th>\n",
       "      <td>2024-12</td>\n",
       "      <td>3956.14</td>\n",
       "      <td>3632.54</td>\n",
       "      <td>323.60</td>\n",
       "    </tr>\n",
       "    <tr>\n",
       "      <th>23</th>\n",
       "      <td>2025-01</td>\n",
       "      <td>5999.45</td>\n",
       "      <td>4557.86</td>\n",
       "      <td>1441.59</td>\n",
       "    </tr>\n",
       "    <tr>\n",
       "      <th>24</th>\n",
       "      <td>2025-02</td>\n",
       "      <td>3954.50</td>\n",
       "      <td>3256.21</td>\n",
       "      <td>698.29</td>\n",
       "    </tr>\n",
       "    <tr>\n",
       "      <th>25</th>\n",
       "      <td>2025-03</td>\n",
       "      <td>15634.93</td>\n",
       "      <td>8705.74</td>\n",
       "      <td>6929.19</td>\n",
       "    </tr>\n",
       "    <tr>\n",
       "      <th>26</th>\n",
       "      <td>2025-04</td>\n",
       "      <td>3392.95</td>\n",
       "      <td>2528.72</td>\n",
       "      <td>864.23</td>\n",
       "    </tr>\n",
       "  </tbody>\n",
       "</table>\n",
       "</div>"
      ],
      "text/plain": [
       "   Year-Month  Income Amount  Expense Amount    Delta\n",
       "0     2023-02          28.92           42.86   -13.94\n",
       "1     2023-03        5947.41         2176.60  3770.81\n",
       "2     2023-04        3795.88         2104.54  1691.34\n",
       "3     2023-05        3795.88         1852.65  1943.23\n",
       "4     2023-06        3795.88         2082.58  1713.30\n",
       "5     2023-07        3922.79         5098.66 -1175.87\n",
       "6     2023-08        3795.88         2814.46   981.42\n",
       "7     2023-09        5693.82         2039.43  3654.39\n",
       "8     2023-10        3846.64         1781.84  2064.80\n",
       "9     2023-11        3860.38         7962.66 -4102.28\n",
       "10    2023-12        3795.88         2279.20  1516.68\n",
       "11    2024-01        4988.76         2137.75  2851.01\n",
       "12    2024-02        3795.88         1414.82  2381.06\n",
       "13    2024-03       10491.09         2204.40  8286.69\n",
       "14    2024-04        5286.49         2167.78  3118.71\n",
       "15    2024-05        4059.50         2177.16  1882.34\n",
       "16    2024-06        4059.49         4601.96  -542.47\n",
       "17    2024-07        4059.48         2239.35  1820.13\n",
       "18    2024-08        9638.17        10717.64 -1079.47\n",
       "19    2024-09        4131.29         4152.44   -21.15\n",
       "20    2024-10        3956.14         2497.63  1458.51\n",
       "21    2024-11        3956.13         4009.92   -53.79\n",
       "22    2024-12        3956.14         3632.54   323.60\n",
       "23    2025-01        5999.45         4557.86  1441.59\n",
       "24    2025-02        3954.50         3256.21   698.29\n",
       "25    2025-03       15634.93         8705.74  6929.19\n",
       "26    2025-04        3392.95         2528.72   864.23"
      ]
     },
     "execution_count": 4,
     "metadata": {},
     "output_type": "execute_result"
    }
   ],
   "source": [
    "monthly_expense_vs_income = pd.merge(monthly_income, monthly_expenses, on='Year-Month')\n",
    "monthly_expense_vs_income['Delta'] = monthly_expense_vs_income['Income Amount'] - monthly_expense_vs_income['Expense Amount']\n",
    "monthly_expense_vs_income"
   ]
  },
  {
   "cell_type": "code",
   "execution_count": 5,
   "metadata": {},
   "outputs": [
    {
     "data": {
      "text/plain": [
       "0       -13.94\n",
       "1      3756.87\n",
       "2      5448.21\n",
       "3      7391.44\n",
       "4      9104.74\n",
       "5      7928.87\n",
       "6      8910.29\n",
       "7     12564.68\n",
       "8     14629.48\n",
       "9     10527.20\n",
       "10    12043.88\n",
       "11    14894.89\n",
       "12    17275.95\n",
       "13    25562.64\n",
       "14    28681.35\n",
       "15    30563.69\n",
       "16    30021.22\n",
       "17    31841.35\n",
       "18    30761.88\n",
       "19    30740.73\n",
       "20    32199.24\n",
       "21    32145.45\n",
       "22    32469.05\n",
       "23    33910.64\n",
       "24    34608.93\n",
       "25    41538.12\n",
       "26    42402.35\n",
       "Name: Delta, dtype: float64"
      ]
     },
     "execution_count": 5,
     "metadata": {},
     "output_type": "execute_result"
    }
   ],
   "source": [
    "monthly_expense_vs_income['Delta'].cumsum()"
   ]
  },
  {
   "cell_type": "code",
   "execution_count": 6,
   "metadata": {},
   "outputs": [
    {
     "data": {
      "text/plain": [
       "1516.6800000000003"
      ]
     },
     "execution_count": 6,
     "metadata": {},
     "output_type": "execute_result"
    }
   ],
   "source": [
    "monthly_expense_vs_income['Delta'].median()"
   ]
  },
  {
   "cell_type": "code",
   "execution_count": 8,
   "metadata": {},
   "outputs": [
    {
     "data": {
      "text/plain": [
       "1049.75"
      ]
     },
     "execution_count": 8,
     "metadata": {},
     "output_type": "execute_result"
    }
   ],
   "source": [
    "# My budget is basically $4,000\n",
    "\n",
    "rent = 500\n",
    "insurance = 71 # 2 cars\n",
    "gas = 100\n",
    "charity = 250\n",
    "health = 35\n",
    "phone = 33.75\n",
    "internet = 60\n",
    "\n",
    "monthly_expenses_deal = rent + insurance + gas + charity + health + phone + internet\n",
    "monthly_expenses_deal"
   ]
  }
 ],
 "metadata": {
  "kernelspec": {
   "display_name": "finance_venv",
   "language": "python",
   "name": "python3"
  },
  "language_info": {
   "codemirror_mode": {
    "name": "ipython",
    "version": 3
   },
   "file_extension": ".py",
   "mimetype": "text/x-python",
   "name": "python",
   "nbconvert_exporter": "python",
   "pygments_lexer": "ipython3",
   "version": "3.11.2"
  }
 },
 "nbformat": 4,
 "nbformat_minor": 2
}
