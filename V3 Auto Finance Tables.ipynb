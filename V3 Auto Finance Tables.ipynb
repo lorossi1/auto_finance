{
 "cells": [
  {
   "cell_type": "markdown",
   "id": "a97ab8b0",
   "metadata": {},
   "source": [
    "# V3 Auto Finance Table"
   ]
  },
  {
   "cell_type": "code",
   "execution_count": null,
   "id": "0b0c9d47",
   "metadata": {},
   "outputs": [],
   "source": [
    "# Credentials for Importing Google Sheets Data"
   ]
  },
  {
   "cell_type": "code",
   "execution_count": null,
   "id": "98580d5c",
   "metadata": {},
   "outputs": [],
   "source": [
    "# Import Expenses Data"
   ]
  },
  {
   "cell_type": "code",
   "execution_count": null,
   "id": "81ee285d",
   "metadata": {},
   "outputs": [],
   "source": [
    "# Import Income Data"
   ]
  },
  {
   "cell_type": "code",
   "execution_count": null,
   "id": "cf7a2c1b",
   "metadata": {},
   "outputs": [],
   "source": [
    "# Calculate Amount Spent, Amount Earned, Delta Table Per Month"
   ]
  },
  {
   "cell_type": "code",
   "execution_count": null,
   "id": "40ad6ce7",
   "metadata": {},
   "outputs": [],
   "source": [
    "# Calculate Amount Spent, Amount Earned, Delta Table Cummulative Sum Per Month"
   ]
  },
  {
   "cell_type": "code",
   "execution_count": null,
   "id": "05acfb63",
   "metadata": {},
   "outputs": [],
   "source": [
    "# Report data, via email? don't know yet"
   ]
  }
 ],
 "metadata": {
  "language_info": {
   "name": "python"
  }
 },
 "nbformat": 4,
 "nbformat_minor": 5
}
