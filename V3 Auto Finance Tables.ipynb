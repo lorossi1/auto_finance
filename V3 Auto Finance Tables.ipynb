{
 "cells": [
  {
   "cell_type": "markdown",
   "id": "a97ab8b0",
   "metadata": {},
   "source": [
    "# V3 Auto Finance Table"
   ]
  },
  {
   "cell_type": "code",
   "execution_count": 24,
   "id": "5dbd7d1b",
   "metadata": {},
   "outputs": [
    {
     "data": {
      "text/plain": [
       "True"
      ]
     },
     "execution_count": 24,
     "metadata": {},
     "output_type": "execute_result"
    }
   ],
   "source": [
    "# Import Libraries\n",
    "########################################\n",
    "#         Data Import from Sheets      #\n",
    "########################################\n",
    "import gspread\n",
    "import pandas as pd\n",
    "from datetime import datetime, timedelta\n",
    "import calendar\n",
    "import matplotlib.pyplot as plt\n",
    "from oauth2client.service_account import ServiceAccountCredentials\n",
    "import smtplib\n",
    "from email.message import EmailMessage\n",
    "import os\n",
    "import mimetypes\n",
    "from pathlib import Path\n",
    "import json\n",
    "from dotenv import load_dotenv\n",
    "\n",
    "load_dotenv()"
   ]
  },
  {
   "cell_type": "code",
   "execution_count": null,
   "id": "0d341384",
   "metadata": {},
   "outputs": [],
   "source": [
    "# Potential Future Use\n",
    "# email_username = os.getenv(\"EMAIL_USERNAME\")\n",
    "# email_password = os.getenv(\"EMAIL_PASSWORD\")\n"
   ]
  },
  {
   "cell_type": "code",
   "execution_count": 25,
   "id": "0b0c9d47",
   "metadata": {},
   "outputs": [],
   "source": [
    "# Credentials for Importing Google Sheets Data\n",
    "scope = ['https://spreadsheets.google.com/feeds', 'https://www.googleapis.com/auth/drive']\n",
    "# creds = ServiceAccountCredentials.from_json_keyfile_name(os.getenv('TRY'), scope)\n",
    "json_keyfile_dict = json.loads(os.getenv(\"JSON_KEYFILE_DICT\"))\n",
    "creds = ServiceAccountCredentials.from_json_keyfile_dict(json_keyfile_dict, scope)\n",
    "client = gspread.authorize(creds)\n",
    "spreadsheet_key = os.getenv(\"SPREADSHEET_KEY2\")\n",
    "spreadsheet = client.open_by_key(spreadsheet_key)"
   ]
  },
  {
   "cell_type": "code",
   "execution_count": 26,
   "id": "98580d5c",
   "metadata": {},
   "outputs": [],
   "source": [
    "# Import Expenses Data\n",
    "sheet_title = 'Transactions'  \n",
    "sheet = spreadsheet.worksheet(sheet_title)\n",
    "expenses_data = sheet.get_all_records()\n",
    "expenses_data = pd.DataFrame(expenses_data)\n",
    "\n",
    "# Clean Time data\n",
    "expenses_data[\"Date\"] = expenses_data[\"Date\"].astype(str).str.strip()\n",
    "\n",
    "expenses_data[\"Date\"] = pd.to_datetime(\n",
    "    expenses_data[\"Date\"],\n",
    "    format=\"mixed\",            \n",
    "    utc=True,                  \n",
    "    dayfirst=False          \n",
    ")\n",
    "\n",
    "expenses_data[\"Date\"] = expenses_data[\"Date\"].dt.tz_convert(None)\n",
    "\n",
    "# Remove Money Hold if applicable\n",
    "expenses_data = expenses_data[expenses_data['Category'] != \"Hold\"]\n",
    "\n",
    "# expenses_data[\"Date\"] = pd.to_datetime(expenses_data['Date'])"
   ]
  },
  {
   "cell_type": "code",
   "execution_count": 27,
   "id": "81ee285d",
   "metadata": {},
   "outputs": [],
   "source": [
    "# Import Income Data\n",
    "sheet_title = 'Income'  \n",
    "sheet = spreadsheet.worksheet(sheet_title)\n",
    "income_data = sheet.get_all_records()\n",
    "income_data = pd.DataFrame(income_data)\n",
    "\n",
    "# Clean Time data\n",
    "income_data[\"Date\"] = income_data[\"Date\"].astype(str).str.strip()\n",
    "\n",
    "income_data[\"Date\"] = pd.to_datetime(\n",
    "    income_data[\"Date\"],\n",
    "    format=\"mixed\",            \n",
    "    utc=True,                  \n",
    "    dayfirst=False          \n",
    ")\n",
    "\n",
    "income_data[\"Date\"] = income_data[\"Date\"].dt.tz_convert(None)"
   ]
  },
  {
   "cell_type": "code",
   "execution_count": null,
   "id": "497402d9",
   "metadata": {},
   "outputs": [],
   "source": [
    "df = expenses_data\n",
    "df = df.rename(columns={'Amount': 'expenses'})\n",
    "df['Year-Month'] = df['Date'].dt.to_period('M')\n",
    "\n",
    "# Group by 'Year-Month'\n",
    "monthly_expenses_all = df.groupby('Year-Month')['expenses'].sum().round(2).reset_index()\n",
    "\n",
    "# Filter Outliers\n",
    "df2 = expenses_data[expenses_data['Outlier'] != 1]\n",
    "df2 = df2.rename(columns={'Amount': 'expenses_no_outlier'})\n",
    "df2['Year-Month'] = df2['Date'].dt.to_period('M')\n",
    "monthly_expenses_no_outlier = df2.groupby('Year-Month')['expenses_no_outier'].sum().round(2).reset_index()\n",
    "\n",
    "table = pd.merge(monthly_expenses_no_outlier, monthly_expenses_all, on='Year-Month')"
   ]
  },
  {
   "cell_type": "code",
   "execution_count": 29,
   "id": "578e6c20",
   "metadata": {},
   "outputs": [],
   "source": [
    "# Calculate Amount Spent, Amount Earned, Delta Table Cummulative Sum Per Month\n",
    "df3 = income_data\n",
    "df3 = df3.rename(columns={'Amount': 'income'})\n",
    "df3['Year-Month'] = df3['Date'].dt.to_period('M')\n",
    "\n",
    "# Group by 'Year-Month'\n",
    "monthly_income_all = df3.groupby('Year-Month')['income'].sum().round(2).reset_index()\n",
    "monthly_income_all\n",
    "\n",
    "table = pd.merge(table, monthly_income_all, on='Year-Month', how=\"left\")\n",
    "table = table.fillna(0)"
   ]
  },
  {
   "cell_type": "code",
   "execution_count": 31,
   "id": "4a7a8936",
   "metadata": {},
   "outputs": [],
   "source": [
    "table['plus_minus'] = (table['income'] - table['expenses']).round(2)\n",
    "table['net_worth'] = table['plus_minus'].cumsum().round(2)"
   ]
  },
  {
   "cell_type": "code",
   "execution_count": null,
   "id": "6f4c7998",
   "metadata": {},
   "outputs": [],
   "source": [
    "df4 = pd.DataFrame({\n",
    "    \"Year-Month\": [\"AVERAGE\"],\n",
    "    \"expenses_no_outlier\": [table['expenses_no_outlier'].mean().round(2)],\n",
    "    \"expenses\": [table['expenses'].mean().round(2)],\n",
    "    \"income\": [table['income'].mean().round(2)],\n",
    "    \"plus_minus\": [table['plus_minus'].mean().round(2)]\n",
    "})\n",
    "\n",
    "table = pd.concat([table, df4])"
   ]
  },
  {
   "cell_type": "code",
   "execution_count": 38,
   "id": "142a1fd4",
   "metadata": {},
   "outputs": [
    {
     "name": "stdout",
     "output_type": "stream",
     "text": [
      "Email sent successfully!\n"
     ]
    }
   ],
   "source": [
    "import pandas as pd\n",
    "import smtplib\n",
    "from email.mime.multipart import MIMEMultipart\n",
    "from email.mime.text import MIMEText\n",
    "\n",
    "\n",
    "# 2. Convert to HTML with inline CSS for gridlines\n",
    "html_table = table.to_html(index=False, border=0)\n",
    "styled_html = f\"\"\"\n",
    "<html>\n",
    "  <head>\n",
    "    <style>\n",
    "      table, th, td {{\n",
    "        border: 1px solid black;\n",
    "        border-collapse: collapse;\n",
    "        padding: 4px;\n",
    "      }}\n",
    "      th {{ background-color: #f2f2f2; }}\n",
    "    </style>\n",
    "  </head>\n",
    "  <body>\n",
    "    <p>Hi there,</p>\n",
    "    <p>See the table below:</p>\n",
    "    {html_table}\n",
    "    <p>Best,<br>Your Python Script</p>\n",
    "  </body>\n",
    "</html>\n",
    "\"\"\"\n",
    "\n",
    "# 3. Build the email message\n",
    "msg = MIMEMultipart('alternative')\n",
    "msg['Subject'] = \"Monthly Expenses Overall\"\n",
    "msg['From']    = \"lorossiprojects@gmail.com\"\n",
    "msg['To']      = \"lohan.rossi@hotmail.com\"\n",
    "\n",
    "# Attach the HTML part\n",
    "msg.attach(MIMEText(styled_html, 'html'))\n",
    "\n",
    "# 4. Send via SMTP (example: Gmail SMTP server)\n",
    "smtp_server = \"smtp.gmail.com\"\n",
    "smtp_port   = 587\n",
    "smtp_user   = \"lorossiprojects@gmail.com\"\n",
    "smtp_pass   = \"esso ebao dfml ccwj\"\n",
    "\n",
    "with smtplib.SMTP(smtp_server, smtp_port) as server:\n",
    "    server.ehlo()\n",
    "    server.starttls()\n",
    "    server.login(smtp_user, smtp_pass)\n",
    "    server.send_message(msg)\n",
    "\n",
    "print(\"Email sent successfully!\")\n"
   ]
  }
 ],
 "metadata": {
  "kernelspec": {
   "display_name": "finance_venv",
   "language": "python",
   "name": "python3"
  },
  "language_info": {
   "codemirror_mode": {
    "name": "ipython",
    "version": 3
   },
   "file_extension": ".py",
   "mimetype": "text/x-python",
   "name": "python",
   "nbconvert_exporter": "python",
   "pygments_lexer": "ipython3",
   "version": "3.11.2"
  }
 },
 "nbformat": 4,
 "nbformat_minor": 5
}
