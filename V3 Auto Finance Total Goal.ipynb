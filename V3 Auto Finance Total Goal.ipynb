{
 "cells": [
  {
   "cell_type": "markdown",
   "id": "cb9c61ff",
   "metadata": {},
   "source": [
    "# V3 Auto Finance Total Goal"
   ]
  },
  {
   "cell_type": "code",
   "execution_count": null,
   "id": "7302da03",
   "metadata": {},
   "outputs": [],
   "source": [
    "# Credentials for Importing Google Sheets Data"
   ]
  },
  {
   "cell_type": "code",
   "execution_count": null,
   "id": "9cc98630",
   "metadata": {},
   "outputs": [],
   "source": [
    "# Import Expenses Data"
   ]
  },
  {
   "cell_type": "code",
   "execution_count": null,
   "id": "285abee2",
   "metadata": {},
   "outputs": [],
   "source": [
    "# Import Income Data"
   ]
  },
  {
   "cell_type": "code",
   "execution_count": null,
   "id": "48e80b14",
   "metadata": {},
   "outputs": [],
   "source": [
    "# Establish Yearly Goals\n",
    "year_saving_ideal = 25000\n",
    "year_saving_estimated = 20000"
   ]
  },
  {
   "cell_type": "code",
   "execution_count": null,
   "id": "ef0a35cb",
   "metadata": {},
   "outputs": [],
   "source": [
    "# Calculate Amount Saved This Year (Earned - Spent)"
   ]
  },
  {
   "cell_type": "code",
   "execution_count": null,
   "id": "496836a0",
   "metadata": {},
   "outputs": [],
   "source": [
    "# Calculate Current Surplus/Deficit from estimated saving"
   ]
  }
 ],
 "metadata": {
  "language_info": {
   "name": "python"
  }
 },
 "nbformat": 4,
 "nbformat_minor": 5
}
